{
 "cells": [
  {
   "cell_type": "code",
   "execution_count": 1,
   "metadata": {},
   "outputs": [
    {
     "name": "stdout",
     "output_type": "stream",
     "text": [
      "__________________________________________________________________________________\n",
      "name\t\ttime\t\th_score\t\tc_score\t\tnmi\n",
      "KM\t\t0.1718\t\t0.5957\t\t0.6423\t\t0.6185\n",
      "AP\t\t7.2601\t\t0.9319\t\t0.4602\t\t0.6549\n",
      "MS\t\t5.4727\t\t0.0142\t\t0.2806\t\t0.0631\n",
      "SC\t\t0.7112\t\t0.0017\t\t0.2712\t\t0.0213\n",
      "AC\t\t1.4014\t\t0.0071\t\t0.2376\t\t0.0412\n",
      "WHC\t\t0.1250\t\t0.0071\t\t0.2376\t\t0.0412\n",
      "DB\t\t0.3212\t\t0.0000\t\t1.0000\t\t0.3750\n",
      "GM\t\t0.8784\t\t0.6330\t\t0.6970\t\t0.6642\n"
     ]
    }
   ],
   "source": [
    "import numpy as np\n",
    "import matplotlib.pyplot as plt\n",
    "import warnings\n",
    "\n",
    "warnings.filterwarnings(\"ignore\")\n",
    "#评价指标\n",
    "from sklearn import metrics\n",
    "\n",
    "#各种聚类方法\n",
    "from sklearn.cluster import KMeans\n",
    "from sklearn.cluster import AffinityPropagation\n",
    "from sklearn.cluster import MeanShift\n",
    "from sklearn.cluster import SpectralClustering\n",
    "from sklearn.cluster import AgglomerativeClustering\n",
    "from sklearn.cluster import DBSCAN\n",
    "from sklearn.mixture import GaussianMixture\n",
    "\n",
    "\n",
    "\n",
    "from sklearn.datasets import load_digits\n",
    "from sklearn.decomposition import PCA\n",
    "\n",
    "from sklearn.preprocessing import scale\n",
    "from time import time\n",
    "\n",
    "digits=load_digits()\n",
    "#获得原始数据\n",
    "origin_data=digits.data\n",
    "#获得原始数据的标签，即属于哪一类\n",
    "labels=digits.target\n",
    "\n",
    "#对原始数据进行标准化\n",
    "data=scale(origin_data)\n",
    "#查看label中一共有多少类\n",
    "n_classes=len(np.unique(labels))\n",
    "\n",
    "\n",
    "km=KMeans(init='random',n_clusters=10)\n",
    "ap=AffinityPropagation()\n",
    "ms=MeanShift()\n",
    "sc=SpectralClustering(n_clusters=10, gamma=0.1)\n",
    "ac=AgglomerativeClustering(n_clusters=10,linkage='average')\n",
    "whc=AgglomerativeClustering(n_clusters=10,linkage='ward')\n",
    "db=DBSCAN()\n",
    "gm=GaussianMixture(n_components=10)\n",
    "\n",
    "\n",
    "print(82 * '_')\n",
    "print('name\\t\\ttime\\t\\th_score\\t\\tc_score\\t\\tnmi')\n",
    "\n",
    "def bench(estimator, name, data):\n",
    "    t0=time()\n",
    "    estimator.fit(data)\n",
    "    print('%s\\t\\t%.4f\\t\\t%.4f\\t\\t%.4f\\t\\t%.4f'\n",
    "         % (name,\n",
    "            time()-t0,\n",
    "            metrics.homogeneity_score(labels,estimator.labels_),\n",
    "            metrics.completeness_score(labels, estimator.labels_),\n",
    "            metrics.normalized_mutual_info_score(labels,estimator.labels_)\n",
    "           ))\n",
    "\n",
    "\n",
    "bench(km,name=\"KM\",data=data)    \n",
    "bench(ap,name=\"AP\",data=data)  \n",
    "bench(ms,name=\"MS\",data=data)\n",
    "bench(sc,name=\"SC\",data=data)\n",
    "bench(ac,name=\"AC\",data=data) \n",
    "bench(ac,name=\"WHC\",data=data)\n",
    "bench(db,name=\"DB\",data=data)  \n",
    "t0=time()\n",
    "gm.fit(data)\n",
    "print('%s\\t\\t%.4f\\t\\t%.4f\\t\\t%.4f\\t\\t%.4f' %('GM',time()-t0,metrics.homogeneity_score(labels,gm.predict(data)),metrics.completeness_score(labels, gm.predict(data)), metrics.normalized_mutual_info_score(labels,gm.predict(data))))\n"
   ]
  },
  {
   "cell_type": "code",
   "execution_count": null,
   "metadata": {},
   "outputs": [],
   "source": []
  }
 ],
 "metadata": {
  "kernelspec": {
   "display_name": "Python 3",
   "language": "python",
   "name": "python3"
  },
  "language_info": {
   "codemirror_mode": {
    "name": "ipython",
    "version": 3
   },
   "file_extension": ".py",
   "mimetype": "text/x-python",
   "name": "python",
   "nbconvert_exporter": "python",
   "pygments_lexer": "ipython3",
   "version": "3.7.3"
  }
 },
 "nbformat": 4,
 "nbformat_minor": 2
}
